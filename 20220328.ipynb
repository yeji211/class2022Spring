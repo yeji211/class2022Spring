{
  "nbformat": 4,
  "nbformat_minor": 0,
  "metadata": {
    "colab": {
      "name": "20220328.ipynb",
      "provenance": [],
      "include_colab_link": true
    },
    "kernelspec": {
      "name": "python3",
      "display_name": "Python 3"
    },
    "language_info": {
      "name": "python"
    }
  },
  "cells": [
    {
      "cell_type": "markdown",
      "metadata": {
        "id": "view-in-github",
        "colab_type": "text"
      },
      "source": [
        "<a href=\"https://colab.research.google.com/github/yeji211/class2022Spring/blob/main/20220328.ipynb\" target=\"_parent\"><img src=\"https://colab.research.google.com/assets/colab-badge.svg\" alt=\"Open In Colab\"/></a>"
      ]
    },
    {
      "cell_type": "code",
      "source": [
        "!pip install gradio\n",
        "import gradio as gr\n",
        "import requests\n",
        "import pandas as pd"
      ],
      "metadata": {
        "id": "8eZHGJhmqd9a"
      },
      "execution_count": 73,
      "outputs": []
    },
    {
      "cell_type": "code",
      "source": [
        "URL = ('http://apis.data.go.kr/1661000/EmergencyInformationService/'\n",
        "       'getEmgPatientConditionInfo?'\n",
        "       'serviceKey=xYBOehHunlTsCL1kIaKxs354GVGYWSLb9X%2FNHZy0hNEYUqY0svwfuTAz%2FQLqB%2BRNAwEvz8FMZvK8bWjYVq4Jew%3D%3D'\n",
        "       '&numOfRows=100'\n",
        "       '&pageNo=1'\n",
        "       '&resultType=json'\n",
        "       '&sidoHqOgidNm=경기도소방재난본부'\n",
        "       '&rsacGutFsttOgidNm=성남소방서'\n",
        "       '&stmtYm=202101')\n",
        "response = requests.get(URL)"
      ],
      "metadata": {
        "id": "lHHEwqpyJF7r"
      },
      "execution_count": 74,
      "outputs": []
    },
    {
      "cell_type": "markdown",
      "source": [
        "#### http://jsonviewer.stack.hu/ (copy json here to view json)"
      ],
      "metadata": {
        "id": "faIENRyFfnY1"
      }
    },
    {
      "cell_type": "code",
      "source": [
        "r = response.json()\n",
        "r"
      ],
      "metadata": {
        "id": "JcLKwg0foR9p"
      },
      "execution_count": null,
      "outputs": []
    },
    {
      "cell_type": "code",
      "source": [
        "items = r['body']['items']\n",
        "\n",
        "rsacGutFsttOgidNm = [item['rsacGutFsttOgidNm'] for item in items]\n",
        "ptntAge = [item['ptntAge'] for item in items]\n",
        "ruptSptmCdNm = [item['ruptSptmCdNm'] for item in items]\n",
        "lwsBpsr = [item['lwsBpsr'] for item in items]\n",
        "topBpsr = [item['topBpsr'] for item in items]\n",
        "ptntBht = [item['ptntBht'] for item in items]\n",
        "ptntHbco = [item['ptntHbco'] for item in items]\n",
        "\n",
        "rsacGutFsttOgidNm = pd.Series(rsacGutFsttOgidNm)\n",
        "ptntAge = pd.Series(ptntAge)   \n",
        "ruptSptmCdNm = pd.Series(ruptSptmCdNm)\n",
        "lwsBpsr = pd.Series(lwsBpsr)\n",
        "topBpsr = pd.Series(topBpsr)\n",
        "ptntBht = pd.Series(ptntBht)\n",
        "ptntHbco = pd.Series(ptntHbco)\n",
        "\n",
        "df = pd.DataFrame({ 'rsacGutFsttOgidNm': rsacGutFsttOgidNm, 'ptntAge': ptntAge, 'ruptSptmCdNm': ruptSptmCdNm, 'lwsBpsr': lwsBpsr, 'topBpsr': topBpsr, 'ptntBht': ptntBht, 'ptntHbco': ptntHbco})"
      ],
      "metadata": {
        "id": "W8lA0-IzE55W"
      },
      "execution_count": 76,
      "outputs": []
    },
    {
      "cell_type": "code",
      "source": [
        "def test(rsacGutFsttOgidNm):\n",
        "  URL = ('http://apis.data.go.kr/1661000/EmergencyInformationService/'\n",
        "       'getEmgPatientConditionInfo?'\n",
        "       'serviceKey=xYBOehHunlTsCL1kIaKxs354GVGYWSLb9X%2FNHZy0hNEYUqY0svwfuTAz%2FQLqB%2BRNAwEvz8FMZvK8bWjYVq4Jew%3D%3D'\n",
        "       '&numOfRows=100'\n",
        "       '&pageNo=1'\n",
        "       '&resultType=json'\n",
        "       '&sidoHqOgidNm=경기도소방재난본부'\n",
        "       '&rsacGutFsttOgidNm='+rsacGutFsttOgidNm+\n",
        "       '&stmtYm=202101')\n",
        "  \n",
        "  response = requests.get(URL)\n",
        "  r = response.json()\n",
        "  items = r['body']['items']\n",
        "\n",
        "  rsacGutFsttOgidNm = [item['rsacGutFsttOgidNm'] for item in items]\n",
        "  ptntAge = [item['ptntAge'] for item in items]\n",
        "  ruptSptmCdNm = [item['ruptSptmCdNm'] for item in items]\n",
        "  lwsBpsr = [item['lwsBpsr'] for item in items]\n",
        "  topBpsr = [item['topBpsr'] for item in items]\n",
        "  ptntBht = [item['ptntBht'] for item in items]\n",
        "  ptntHbco = [item['ptntHbco'] for item in items]\n",
        "\n",
        "  rsacGutFsttOgidNm = pd.Series(rsacGutFsttOgidNm)\n",
        "  ptntAge = pd.Series(ptntAge)   \n",
        "  ruptSptmCdNm = pd.Series(ruptSptmCdNm)\n",
        "  lwsBpsr = pd.Series(lwsBpsr)\n",
        "  topBpsr = pd.Series(topBpsr)\n",
        "  ptntBht = pd.Series(ptntBht)\n",
        "  ptntHbco = pd.Series(ptntHbco)\n",
        "\n",
        "  df = pd.DataFrame({ 'rsacGutFsttOgidNm': rsacGutFsttOgidNm, 'ptntAge': ptntAge, 'ruptSptmCdNm': ruptSptmCdNm, 'lwsBpsr': lwsBpsr, 'topBpsr': topBpsr, 'ptntBht': ptntBht, 'ptntHbco': ptntHbco})\n",
        "  return df"
      ],
      "metadata": {
        "id": "xa2Gb_qsm_G5"
      },
      "execution_count": 77,
      "outputs": []
    },
    {
      "cell_type": "code",
      "source": [
        "iface = gr.Interface(test, gr.inputs.Dropdown(['파주소방서', '일산소방서', '고양소방서', '성남소방서', '용인소방서', '안양소방서', '여주소방서', '광주소방서', '수원소방서', '안산소방서', '분당소방서', '화성소방서']), outputs=['dataframe'])\n",
        "iface.launch(debug=True)"
      ],
      "metadata": {
        "id": "kxORJVPOnDSP",
        "outputId": "19283c35-60e0-4642-e041-41c57a706489",
        "colab": {
          "base_uri": "https://localhost:8080/",
          "height": 665
        }
      },
      "execution_count": 78,
      "outputs": [
        {
          "output_type": "stream",
          "name": "stdout",
          "text": [
            "Colab notebook detected. This cell will run indefinitely so that you can see errors and logs. To turn off, set debug=False in launch().\n",
            "Running on public URL: https://56757.gradio.app\n",
            "\n",
            "This share link expires in 72 hours. For free permanent hosting, check out Spaces (https://huggingface.co/spaces)\n"
          ]
        },
        {
          "output_type": "display_data",
          "data": {
            "text/plain": [
              "<IPython.lib.display.IFrame at 0x7f619b9f6a10>"
            ],
            "text/html": [
              "\n",
              "        <iframe\n",
              "            width=\"900\"\n",
              "            height=\"500\"\n",
              "            src=\"https://56757.gradio.app\"\n",
              "            frameborder=\"0\"\n",
              "            allowfullscreen\n",
              "        ></iframe>\n",
              "        "
            ]
          },
          "metadata": {}
        },
        {
          "output_type": "stream",
          "name": "stdout",
          "text": [
            "Keyboard interruption in main thread... closing server.\n"
          ]
        },
        {
          "output_type": "execute_result",
          "data": {
            "text/plain": [
              "(<fastapi.applications.FastAPI at 0x7f61a70f4cd0>,\n",
              " 'http://127.0.0.1:7860/',\n",
              " 'https://56757.gradio.app')"
            ]
          },
          "metadata": {},
          "execution_count": 78
        }
      ]
    }
  ]
}
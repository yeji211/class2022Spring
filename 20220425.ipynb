{
  "nbformat": 4,
  "nbformat_minor": 0,
  "metadata": {
    "colab": {
      "name": "20220425.ipynb",
      "provenance": [],
      "authorship_tag": "ABX9TyMNkO1Jv5fgoZQk6s9TJIw5",
      "include_colab_link": true
    },
    "kernelspec": {
      "name": "python3",
      "display_name": "Python 3"
    },
    "language_info": {
      "name": "python"
    }
  },
  "cells": [
    {
      "cell_type": "markdown",
      "metadata": {
        "id": "view-in-github",
        "colab_type": "text"
      },
      "source": [
        "<a href=\"https://colab.research.google.com/github/yeji211/class2022Spring/blob/main/20220425.ipynb\" target=\"_parent\"><img src=\"https://colab.research.google.com/assets/colab-badge.svg\" alt=\"Open In Colab\"/></a>"
      ]
    },
    {
      "cell_type": "markdown",
      "source": [
        "**Auto correlation**\n",
        "*   measuring pitch\n",
        "*   시간 또는 공간적으로 연속된 일련의 관측치들 간에 존재하는 상관관계\n",
        "*   신호의 스펙트럼이 가지는 특성 정보를 보여줌\n",
        "\n",
        "**RMS: Root Mean Square**\n",
        "*   measuring intensity\n",
        "*   값들의 제곱을 평균하여 제곱근으로 나타낸 것\n",
        "*   변수들의 분포가 음과 양의 값을 골고루 가질 때 그 크기의 정도를 알아보고자 할 때 유용\n",
        "\n"
      ],
      "metadata": {
        "id": "MxDqWA9CH7jg"
      }
    }
  ]
}